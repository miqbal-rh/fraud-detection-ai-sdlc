{
 "cells": [
  {
   "cell_type": "markdown",
   "id": "50b5876d",
   "metadata": {},
   "source": [
    "# Insurance Fraud Detection Model\n",
    "This notebook demonstrates the training and evaluation of a machine learning model to detect fraudulent insurance claims."
   ]
  },
  {
   "cell_type": "code",
   "execution_count": null,
   "id": "df2e1003",
   "metadata": {},
   "outputs": [],
   "source": [
    "import pandas as pd\n",
    "import numpy as np\n",
    "from sklearn.model_selection import train_test_split\n",
    "from sklearn.preprocessing import StandardScaler\n",
    "from sklearn.feature_extraction.text import TfidfVectorizer\n",
    "from sklearn.compose import ColumnTransformer\n",
    "from sklearn.pipeline import Pipeline\n",
    "from xgboost import XGBClassifier\n",
    "from sklearn.metrics import classification_report, roc_auc_score\n",
    "import shap\n",
    "import joblib\n"
   ]
  },
  {
   "cell_type": "code",
   "execution_count": null,
   "id": "3b0ab289",
   "metadata": {},
   "outputs": [],
   "source": [
    "df = pd.read_csv(\"data/claims.csv\")\n",
    "df.head()\n"
   ]
  },
  {
   "cell_type": "code",
   "execution_count": null,
   "id": "769d7f7a",
   "metadata": {},
   "outputs": [],
   "source": [
    "X = df[['claim_amount', 'claimant_age', 'incident_description']]\n",
    "y = df['is_fraud']\n",
    "X_train, X_test, y_train, y_test = train_test_split(X, y, test_size=0.2, random_state=42)\n"
   ]
  },
  {
   "cell_type": "code",
   "execution_count": null,
   "id": "ba090353",
   "metadata": {},
   "outputs": [],
   "source": [
    "preprocessor = ColumnTransformer([\n",
    "    ('num', StandardScaler(), ['claim_amount', 'claimant_age']),\n",
    "    ('txt', TfidfVectorizer(max_features=100), 'incident_description')\n",
    "])\n",
    "\n",
    "pipeline = Pipeline([\n",
    "    ('pre', preprocessor),\n",
    "    ('clf', XGBClassifier(use_label_encoder=False, eval_metric='logloss'))\n",
    "])\n",
    "\n",
    "pipeline.fit(X_train, y_train)\n"
   ]
  },
  {
   "cell_type": "code",
   "execution_count": null,
   "id": "e76c1ac6",
   "metadata": {},
   "outputs": [],
   "source": [
    "y_pred = pipeline.predict(X_test)\n",
    "y_proba = pipeline.predict_proba(X_test)[:, 1]\n",
    "\n",
    "print(classification_report(y_test, y_pred))\n",
    "print(\"AUC Score:\", roc_auc_score(y_test, y_proba))\n"
   ]
  },
  {
   "cell_type": "code",
   "execution_count": null,
   "id": "2b7537d2",
   "metadata": {},
   "outputs": [],
   "source": [
    "explainer = shap.Explainer(pipeline.named_steps['clf'])\n",
    "shap_values = explainer(pipeline.named_steps['pre'].transform(X_test))\n",
    "shap.plots.waterfall(shap_values[0])\n"
   ]
  },
  {
   "cell_type": "code",
   "execution_count": null,
   "id": "386acd2b",
   "metadata": {},
   "outputs": [],
   "source": [
    "joblib.dump(pipeline, \"app/model_pipeline.pkl\")\n",
    "print(\"Model saved to app/model_pipeline.pkl\")\n"
   ]
  }
 ],
 "metadata": {},
 "nbformat": 4,
 "nbformat_minor": 5
}
